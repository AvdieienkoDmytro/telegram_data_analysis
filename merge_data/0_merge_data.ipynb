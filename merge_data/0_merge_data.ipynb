{
 "cells": [
  {
   "cell_type": "code",
   "id": "c3ef62a289f09c85",
   "metadata": {
    "jupyter": {
     "is_executing": true
    }
   },
   "source": [
    "import os\n",
    "import pandas as pd\n",
    "import glob"
   ],
   "outputs": [],
   "execution_count": null
  },
  {
   "cell_type": "code",
   "id": "d076df7c",
   "metadata": {},
   "source": [
    "DIALOGS_DATA_PATH = \"../data/dialogs\"\n",
    "DIALOGS_META_DATA_PATH = \"../data/dialogs_meta\"\n",
    "\n",
    "MERGED_DATA_PATH = \"../data/merged_data\""
   ],
   "outputs": [],
   "execution_count": null
  },
  {
   "cell_type": "code",
   "id": "65a13565",
   "metadata": {},
   "source": [
    "!ls ../data/"
   ],
   "outputs": [],
   "execution_count": null
  },
  {
   "cell_type": "code",
   "id": "6d0eddab",
   "metadata": {},
   "source": [
    "dialogs_data_files = glob.glob(f\"{DIALOGS_DATA_PATH}/*.csv\")\n",
    "dialogs_meta_data_files = glob.glob(f\"{DIALOGS_META_DATA_PATH}/*.json\")"
   ],
   "outputs": [],
   "execution_count": null
  },
  {
   "cell_type": "markdown",
   "id": "78cc73b6",
   "metadata": {},
   "source": [
    "## merging all dialogs_data (csv files) into one"
   ]
  },
  {
   "cell_type": "code",
   "id": "4d582c3b",
   "metadata": {},
   "source": [
    "df_array = []\n",
    "\n",
    "for d in dialogs_data_files:\n",
    "    local_df = pd.read_csv(d)\n",
    "    local_df[\"dialog_id\"] = os.path.basename(d).split(\".\")[0]\n",
    "    \n",
    "    df_array.append(local_df)\n",
    "    \n",
    "df = pd.concat(df_array, ignore_index=True)"
   ],
   "outputs": [],
   "execution_count": null
  },
  {
   "cell_type": "code",
   "id": "4d83eb47",
   "metadata": {},
   "source": [
    "df.shape"
   ],
   "outputs": [],
   "execution_count": null
  },
  {
   "cell_type": "code",
   "id": "96e470a8",
   "metadata": {},
   "source": [
    "if not os.path.isdir(MERGED_DATA_PATH):\n",
    "    os.mkdir(MERGED_DATA_PATH)\n",
    "\n",
    "if \"Unnamed: 0\" in df:\n",
    "    df = df.drop([\"Unnamed: 0\"], axis=True)\n",
    "    \n",
    "df.to_csv(f\"{MERGED_DATA_PATH}/dialogs_data_all.csv\", index=False)"
   ],
   "outputs": [],
   "execution_count": null
  },
  {
   "cell_type": "code",
   "id": "16776850",
   "metadata": {},
   "source": [
    "df.shape"
   ],
   "outputs": [],
   "execution_count": null
  },
  {
   "cell_type": "code",
   "id": "4672e8ce",
   "metadata": {},
   "source": [
    "df.head(10)"
   ],
   "outputs": [],
   "execution_count": null
  },
  {
   "cell_type": "code",
   "id": "d1bd96f3",
   "metadata": {},
   "source": [
    "min(df[\"date\"]),max(df[\"date\"])"
   ],
   "outputs": [],
   "execution_count": null
  },
  {
   "cell_type": "code",
   "id": "2a1aafab",
   "metadata": {},
   "source": [
    "df.groupby([\"type\"])[\"type\"].count()"
   ],
   "outputs": [],
   "execution_count": null
  },
  {
   "cell_type": "code",
   "id": "66a677a9",
   "metadata": {},
   "source": [
    "df.groupby([\"type\"])[\"duration\"].sum()"
   ],
   "outputs": [],
   "execution_count": null
  },
  {
   "cell_type": "markdown",
   "id": "e24460df",
   "metadata": {},
   "source": [
    "## merging all dialogs_meta_data (json files) into one"
   ]
  },
  {
   "cell_type": "code",
   "id": "3cecdc78",
   "metadata": {},
   "source": [
    "df_array = []\n",
    "\n",
    "for d in dialogs_meta_data_files:\n",
    "    local_df = pd.read_json(d)\n",
    "    local_df = local_df.rename({'id': 'dialog_id'}, axis=1)\n",
    "    df_array.append(local_df)\n",
    "    \n",
    "df_meta = pd.concat(df_array, ignore_index=True)"
   ],
   "outputs": [],
   "execution_count": null
  },
  {
   "cell_type": "code",
   "id": "6b458ce5",
   "metadata": {},
   "source": [
    "df_meta.to_csv(f\"{MERGED_DATA_PATH}/dialogs_users_all.csv\", index=False)"
   ],
   "outputs": [],
   "execution_count": null
  },
  {
   "cell_type": "code",
   "id": "313b23f0",
   "metadata": {},
   "source": [
    "df_meta.shape"
   ],
   "outputs": [],
   "execution_count": null
  },
  {
   "cell_type": "code",
   "id": "ef6f51b9",
   "metadata": {},
   "source": [
    "df_meta.head(10)"
   ],
   "outputs": [],
   "execution_count": null
  },
  {
   "cell_type": "code",
   "id": "186f2f67",
   "metadata": {},
   "source": [
    "df_meta.groupby([\"type\"])[\"type\"].count()"
   ],
   "outputs": [],
   "execution_count": null
  },
  {
   "cell_type": "code",
   "id": "36bc5268",
   "metadata": {},
   "source": [],
   "outputs": [],
   "execution_count": null
  }
 ],
 "metadata": {
  "kernelspec": {
   "display_name": "Python 3 (ipykernel)",
   "language": "python",
   "name": "python3"
  },
  "language_info": {
   "codemirror_mode": {
    "name": "ipython",
    "version": 3
   },
   "file_extension": ".py",
   "mimetype": "text/x-python",
   "name": "python",
   "nbconvert_exporter": "python",
   "pygments_lexer": "ipython3",
   "version": "3.10.10"
  }
 },
 "nbformat": 4,
 "nbformat_minor": 5
}
